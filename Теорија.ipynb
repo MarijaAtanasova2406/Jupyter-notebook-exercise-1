{
 "cells": [
  {
   "cell_type": "markdown",
   "metadata": {
    "kernel": "SoS"
   },
   "source": [
    "# Филтрирање на слика во фреквенциски домен\n",
    "\n",
    "## Теорија\n",
    "\n",
    "За да филтрираме слика во фреквенциски домен \n",
    "потребно е да ја помножиме сликата во фреквенциски \n",
    "домен со филтерот (кернел) кој е исто така во фреквенциски домен.\n",
    "\n",
    "### Равенка за филтрирање на слика во фреквенциски домен: \n",
    "\n",
    "$$I_{f,filt} = HI_f$$\n",
    "\n",
    "За таа цел потребно е да се вметне Octave функција која ќе креира “Band pass gaussian filter” во фреквенциски домен. Bandpass гаусовиот филтер во фреквенциски домен е дефиниран со равенката:\n",
    "\n",
    "### Bandpass гаусов филтер:\n",
    "\n",
    "$$H(i,j) = e^\\frac{-d(i,j)^2} {f_h^2}\\left(1 - e^\\frac{-d(i,j)^2} {f_l^2}\\right)$$\n",
    "\n",
    "Каде што $d(i,j)$ е евклидовото растојанието на даден пиксел од центарот на сликата, додека $f_h$ и $f_l$ се праговите на високите и ниските фреквенции кои сакаме да ги филтрираме.\n",
    "Конверзија на 2D сликата од просторен во фреквенциски домен се прави со користење на Фуриева трансформација. Фуриевата трансформација е дефинирана како:\n",
    "\n",
    "### Фуриева трансформација во апсолутно-непрекинат домен:\n",
    "\n",
    "$$F(u,v) = \\int_{-\\infty}^{\\infty}\\int_{-\\infty}^{\\infty} f(x,y) e^{-i2\\pi(ux+vy)} dxdy$$\n",
    "\n",
    "А во дискретниот домен горната равенка може да биде преведена како\n",
    "\n",
    "### Фуриева трансформација во дискретен домен:\n",
    "\n",
    "$$F(u,v) = \\displaystyle\\sum_{m=-\\infty}^{\\infty} \\sum_{n=-\\infty}^{\\infty} f[m,n] \\cdot e^ {-i2\\pi(umx_0+vny_0)}$$\n",
    "        \n",
    "Конверзија на 2D сликата од фреквенциски во просторен домен се прави со\n",
    "користење на инверзна Фуриева трансформација. Инверзната Фуриева\n",
    "трансформација е дефинирана како:\n",
    "\n",
    "### Инверзни равенки:\n",
    "\n",
    "$$ f(x,y)= \\int_{-\\infty}^{\\infty}\\int_{-\\infty}^{\\infty} F(u,v) e^{i2\\pi(ux+vy)} dudv$$\n",
    "\n",
    "А во дискретниот домен горната равенка може да биде преведена како\n",
    "\n",
    "$$F(x,y) = \\displaystyle\\sum_{m=-\\infty}^{\\infty} \\sum_{n=-\\infty}^{\\infty} f[m,n] \\cdot e^ {i2\\pi(xmu_0+ynv_0)}$$"
   ]
  },
  {
   "cell_type": "code",
   "execution_count": 11,
   "metadata": {
    "kernel": "Matlab"
   },
   "outputs": [
    {
     "name": "stdout",
     "output_type": "stream",
     "text": [
      "Created file 'C:\\Users\\atana\\Desktop\\miikt\\create_filter.m'.\n"
     ]
    }
   ],
   "source": [
    "%%file create_filter.m\n",
    "\n",
    "function filter = create_filter(nx,ny,d0,d1)\n",
    "    filter = ones(nx,ny);\n",
    "    for i = 0:nx-1\n",
    "        for j = 0:ny-1\n",
    "            dist= sqrt((i-nx/2)^2 + (j-ny/2)^2);\n",
    "            filter(i+1,j+1) = exp(-(dist^2)/(d1^2)).*(1.0-exp(-(dist^2)/(d0^2)));\n",
    "        end\n",
    "    end\n",
    "    filter(nx/2+1,ny/2+1)=1;\n",
    "end"
   ]
  },
  {
   "cell_type": "code",
   "execution_count": 12,
   "metadata": {
    "kernel": "Matlab"
   },
   "outputs": [
    {
     "name": "stdout",
     "output_type": "stream",
     "text": [
      "\n"
     ]
    }
   ],
   "source": [
    "clear all\n",
    "%read image\n",
    "im = double(imread('Barbara.tif'));\n",
    "%size of the image\n",
    "[nx ny] = size(im);\n",
    "%Transform the image from spatial to frequency domain\n",
    "im_fft = fftshift(fft2(im));\n",
    "% Create Gaussian bandpass kernels, in frequency domain, for 20 different cut off frequencies and filter the image\n",
    "p=1;\n",
    "for i = 1:10:101\n",
    "q=1;\n",
    "    for j = 1:10:101\n",
    "        %Create the bandpass kernel\n",
    "        tmp1 = create_filter(nx,ny,i,j);\n",
    "        %Filter the image with the bandpass kernel and transform it back to spatial domain\n",
    "        tmp = mat2gray(abs(ifft2(ifftshift(tmp1.*im_fft))));\n",
    "        %Save the filtered image (in spatial domain) and kernel (in frequency domain) for visualization \n",
    "        filtered_image(p,q,:) = tmp(:);\n",
    "        filter_kernel(p,q,:) = tmp1(:);\n",
    "        q=q+1;\n",
    "    end\n",
    "    p=p+1;\n",
    "end\n",
    "%zachuvuvanje na matrici na slikata i kernelot vo iminjata.mat\n",
    "save filtered_image \n",
    "save filter_kernel"
   ]
  },
  {
   "cell_type": "code",
   "execution_count": 1,
   "metadata": {
    "kernel": "Python3"
   },
   "outputs": [
    {
     "data": {
      "application/vnd.jupyter.widget-view+json": {
       "model_id": "af6368e7f05b4474a0338864a327950d",
       "version_major": 2,
       "version_minor": 0
      },
      "text/plain": [
       "interactive(children=(IntRangeSlider(value=(0, 10), continuous_update=False, description='Frequency cutoffs:',…"
      ]
     },
     "metadata": {},
     "output_type": "display_data"
    }
   ],
   "source": [
    "%matplotlib nbagg\n",
    "\n",
    "import ipywidgets as widgets\n",
    "from IPython.display import display\n",
    "import matplotlib.pyplot as plt\n",
    "import numpy as np\n",
    "import matplotlib.image as mpimg\n",
    "import scipy.io as sio\n",
    "\n",
    "value = widgets.IntRangeSlider(\n",
    "    value=[0, 10],\n",
    "    min=0,\n",
    "    max=10,\n",
    "    step=1,\n",
    "    description='Frequency cutoffs:',\n",
    "    disabled=False,\n",
    "    continuous_update=False,\n",
    "    orientation='horizontal',\n",
    "    readout=True,\n",
    "    readout_format='d',\n",
    "    layout={'width': '100%'}\n",
    ")\n",
    "\n",
    "def display_image(value_0, value_1):\n",
    "    filtered_image = sio.loadmat('filtered_image.mat')\n",
    "    filt_images = filtered_image['filtered_image']\n",
    "    image = filt_images[value_0][value_1][0:]\n",
    "    image = image.reshape(402,566)\n",
    "    image = np.rot90(image, -1)\n",
    "    return image;\n",
    "    \n",
    "def display_kernel(value_0, value_1):\n",
    "    filtered_kernel = sio.loadmat('filter_kernel.mat')\n",
    "    filt_kernels = filtered_kernel['filter_kernel']\n",
    "    kernel = filt_kernels[value_0][value_1][0:]\n",
    "    kernel = kernel.reshape(402,566)\n",
    "    kernel = np.rot90(kernel, -1)\n",
    "    return kernel;\n",
    "\n",
    "def update_plot(value):\n",
    "    image = display_image(value[0], value[1])\n",
    "    kernel = display_kernel(value[0], value[1])\n",
    "    image = np.fliplr(image)\n",
    "    kernel = np.fliplr(kernel)\n",
    "    plot_image = np.concatenate((image, kernel), axis=1)\n",
    "    plt.imshow(plot_image, cmap=\"gray\", aspect='auto')\n",
    "    plt.title('Filtered Image')\n",
    "    plt.axis('off')\n",
    "    plt.show()\n",
    "\n",
    "widgets.interactive(update_plot, value=value)"
   ]
  }
 ],
 "metadata": {
  "kernelspec": {
   "display_name": "SoS",
   "language": "sos",
   "name": "sos"
  },
  "language_info": {
   "codemirror_mode": "sos",
   "file_extension": ".sos",
   "mimetype": "text/x-sos",
   "name": "sos",
   "nbconvert_exporter": "sos_notebook.converter.SoS_Exporter",
   "pygments_lexer": "sos"
  },
  "sos": {
   "kernels": [
    [
     "Matlab",
     "matlab",
     "matlab",
     "",
     "octave"
    ],
    [
     "Python3",
     "python3",
     "Python3",
     "#FFD91A",
     ""
    ]
   ],
   "panel": {
    "displayed": true,
    "height": 0
   },
   "version": "0.21.0"
  }
 },
 "nbformat": 4,
 "nbformat_minor": 2
}
