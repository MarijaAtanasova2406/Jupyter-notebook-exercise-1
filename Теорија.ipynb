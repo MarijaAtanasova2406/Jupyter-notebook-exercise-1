{
 "cells": [
  {
   "cell_type": "markdown",
   "metadata": {
    "kernel": "SoS"
   },
   "source": [
    "# Филтрирање на слика во фреквенциски домен\n",
    "\n",
    "## Теорија\n",
    "\n",
    "За да филтрираме слика во фреквенциски домен \n",
    "потребно е да ја помножиме сликата во фреквенциски \n",
    "домен со филтерот (кернел) кој е исто така во фреквенциски домен.\n",
    "\n",
    "### Равенка за филтрирање на слика во фреквенциски домен: \n",
    "\n",
    "$$I_{f,filt} = HI_f$$\n",
    "\n",
    "За таа цел потребно е да се вметне Octave функција која ќе креира “Band pass gaussian filter” во фреквенциски домен. Bandpass гаусовиот филтер во фреквенциски домен е дефиниран со равенката:\n",
    "\n",
    "### Bandpass гаусов филтер:\n",
    "\n",
    "$$H(i,j) = e^\\frac{-d(i,j)^2} {f_h^2}\\left(1 - e^\\frac{-d(i,j)^2} {f_l^2}\\right)$$\n",
    "\n",
    "Каде што $d(i,j)$ е евклидовото растојанието на даден пиксел од центарот на сликата, додека $f_h$ и $f_l$ се праговите на високите и ниските фреквенции кои сакаме да ги филтрираме.\n",
    "Конверзија на 2D сликата од просторен во фреквенциски домен се прави со користење на Фуриева трансформација. Фуриевата трансформација е дефинирана како:\n",
    "\n",
    "### Фуриева трансформација во апсолутно-непрекинат домен:\n",
    "\n",
    "$$F(u,v) = \\int_{-\\infty}^{\\infty}\\int_{-\\infty}^{\\infty} f(x,y) e^{-i2\\pi(ux+vy)} dxdy$$\n",
    "\n",
    "А во дискретниот домен горната равенка може да биде преведена како\n",
    "\n",
    "### Фуриева трансформација во дискретен домен:\n",
    "\n",
    "$$F(u,v) = \\displaystyle\\sum_{m=-\\infty}^{\\infty} \\sum_{n=-\\infty}^{\\infty} f[m,n] \\cdot e^ {-i2\\pi(umx_0+vny_0)}$$\n",
    "        \n",
    "Конверзија на 2D сликата од фреквенциски во просторен домен се прави со\n",
    "користење на инверзна Фуриева трансформација. Инверзната Фуриева\n",
    "трансформација е дефинирана како:\n",
    "\n",
    "### Инверзни равенки:\n",
    "\n",
    "$$ f(x,y)= \\int_{-\\infty}^{\\infty}\\int_{-\\infty}^{\\infty} F(u,v) e^{i2\\pi(ux+vy)} dudv$$\n",
    "\n",
    "А во дискретниот домен горната равенка може да биде преведена како\n",
    "\n",
    "$$F(x,y) = \\displaystyle\\sum_{m=-\\infty}^{\\infty} \\sum_{n=-\\infty}^{\\infty} f[m,n] \\cdot e^ {i2\\pi(xmu_0+ynv_0)}$$"
   ]
  },
  {
   "cell_type": "code",
   "execution_count": 7,
   "metadata": {
    "kernel": "Matlab"
   },
   "outputs": [
    {
     "name": "stdout",
     "output_type": "stream",
     "text": [
      "Created file 'C:\\Users\\atana\\Desktop\\miikt\\create_filter.m'.\n"
     ]
    }
   ],
   "source": [
    "%%file create_filter.m\n",
    "\n",
    "function filter = create_filter(nx,ny,d0,d1)\n",
    "    filter = ones(nx,ny);\n",
    "    for i = 0:nx-1\n",
    "        for j = 0:ny-1\n",
    "            dist= sqrt((i-nx/2)^2 + (j-ny/2)^2);\n",
    "            filter(i+1,j+1) = exp(-(dist^2)/(d1^2)).*(1.0-exp(-(dist^2)/(d0^2)));\n",
    "        end\n",
    "    end\n",
    "    filter(nx/2+1,ny/2+1)=1;\n",
    "end"
   ]
  },
  {
   "cell_type": "code",
   "execution_count": 3,
   "metadata": {
    "kernel": "Matlab"
   },
   "outputs": [
    {
     "name": "stdout",
     "output_type": "stream",
     "text": [
      "\n"
     ]
    }
   ],
   "source": [
    "clear all\n",
    "%read image\n",
    "im = double(imread('Barbara.tif'));\n",
    "%size of the image\n",
    "[nx ny] = size(im);\n",
    "%Transform the image from spatial to frequency domain\n",
    "im_fft = fftshift(fft2(im));\n",
    "% Create Gaussian bandpass kernels, in frequency domain, for 20 different cut off frequencies and filter the image\n",
    "p=1;\n",
    "for i = 1:10:101\n",
    "q=1;\n",
    "    for j = 1:10:101\n",
    "        %Create the bandpass kernel\n",
    "        tmp1 = create_filter(nx,ny,i,j);\n",
    "        %Filter the image with the bandpass kernel and transform it back to spatial domain\n",
    "        tmp = mat2gray(abs(ifft2(ifftshift(tmp1.*im_fft))));\n",
    "        %Save the filtered image (in spatial domain) and kernel (in frequency domain) for visualization \n",
    "        filtered_image(p,q,:) = tmp(:);\n",
    "        filter_kernel(p,q,:) = tmp1(:);\n",
    "        q=q+1;\n",
    "    end\n",
    "    p=p+1;\n",
    "end\n",
    "%zachuvuvanje na matrici na slikata i kernelot vo iminjata.mat\n",
    "save filtered_image \n",
    "save filter_kernel"
   ]
  },
  {
   "cell_type": "code",
   "execution_count": 1,
   "metadata": {
    "kernel": "Python3",
    "scrolled": true
   },
   "outputs": [
    {
     "data": {
      "application/vnd.jupyter.widget-view+json": {
       "model_id": "590641d1df63438fb85db28100d49c20",
       "version_major": 2,
       "version_minor": 0
      },
      "text/plain": [
       "IntRangeSlider(value=(0, 10), continuous_update=False, description='Frequency cutoffs:', layout=Layout(width='…"
      ]
     },
     "metadata": {},
     "output_type": "display_data"
    }
   ],
   "source": [
    "import ipywidgets as widgets\n",
    "from IPython.display import display\n",
    "import matplotlib.pyplot as plt\n",
    "import numpy as np\n",
    "\n",
    "%matplotlib nbagg\n",
    "\n",
    "amp = widgets.IntRangeSlider(\n",
    "    value=[0, 10],\n",
    "    min=0,\n",
    "    max=10,\n",
    "    step=1,\n",
    "    description='Frequency cutoffs:',\n",
    "    disabled=False,\n",
    "    continuous_update=False,\n",
    "    orientation='horizontal',\n",
    "    readout=True,\n",
    "    readout_format='d',\n",
    "    layout={'width': '100%'}\n",
    ")\n",
    "\n",
    "display(amp)"
   ]
  },
  {
   "cell_type": "code",
   "execution_count": 1,
   "metadata": {
    "kernel": "Python3"
   },
   "outputs": [
    {
     "name": "stdout",
     "output_type": "stream",
     "text": [
      " * Serving Flask app \"__main__\" (lazy loading)\n",
      " * Environment: production\n",
      "   WARNING: This is a development server. Do not use it in a production deployment.\n",
      "   Use a production WSGI server instead.\n",
      " * Debug mode: off\n"
     ]
    },
    {
     "name": "stderr",
     "output_type": "stream",
     "text": [
      " * Running on http://127.0.0.1:8009/ (Press CTRL+C to quit)\n"
     ]
    }
   ],
   "source": [
    "import dash\n",
    "import dash_html_components as html\n",
    "import dash_core_components as dcc\n",
    "import base64\n",
    "\n",
    "\n",
    "external_stylesheets = ['https://codepen.io/chriddyp/pen/bWLwgP.css']\n",
    "\n",
    "\n",
    "image_filename = 'C:\\\\Users\\\\atana\\\\Downloads\\\\Barbara.png' # replace with your own image\n",
    "encoded_image = base64.b64encode(open(image_filename, 'rb').read())\n",
    "\n",
    "app = dash.Dash(__name__, external_stylesheets=external_stylesheets)\n",
    "app.layout = html.Div([\n",
    "    html.Div(\"Frequency cutoffs:\"),\n",
    "    dcc.RangeSlider(\n",
    "        id='my-range-slider',\n",
    "        min=0,\n",
    "        max=10,\n",
    "        step=0.5,\n",
    "        value=[1, 4]\n",
    "    ),\n",
    "    html.Div(id='output-container-range-slider'),\n",
    "    html.Img(src='data:image/png;base64,{}'.format(encoded_image.decode()))\n",
    "])\n",
    "\n",
    "\n",
    "@app.callback(\n",
    "    dash.dependencies.Output('output-container-range-slider', 'children'),\n",
    "    [dash.dependencies.Input('my-range-slider', 'value')])\n",
    "def update_output(value):\n",
    "    return 'You have selected \"{}\"'.format(value)\n",
    "\n",
    "\n",
    "if __name__ == '__main__':\n",
    "    app.run_server(port=8009,\n",
    "                   debug=False)"
   ]
  },
  {
   "cell_type": "code",
   "execution_count": 9,
   "metadata": {
    "kernel": "Python3"
   },
   "outputs": [
    {
     "ename": "NameError",
     "evalue": "name 'np' is not defined",
     "output_type": "error",
     "traceback": [
      "\u001b[1;31m---------------------------------------------------------------------------\u001b[0m",
      "\u001b[1;31mNameError\u001b[0m                                 Traceback (most recent call last)",
      "\u001b[1;32m<ipython-input-9-7c3f50bd232f>\u001b[0m in \u001b[0;36m<module>\u001b[1;34m\u001b[0m\n\u001b[0;32m      6\u001b[0m \u001b[0mtemp\u001b[0m \u001b[1;33m=\u001b[0m \u001b[0mfilt_kernels\u001b[0m\u001b[1;33m[\u001b[0m\u001b[1;36m0\u001b[0m\u001b[1;33m]\u001b[0m\u001b[1;33m[\u001b[0m\u001b[1;36m5\u001b[0m\u001b[1;33m]\u001b[0m\u001b[1;33m[\u001b[0m\u001b[1;36m0\u001b[0m\u001b[1;33m:\u001b[0m\u001b[1;33m]\u001b[0m\u001b[1;33m\u001b[0m\u001b[1;33m\u001b[0m\u001b[0m\n\u001b[0;32m      7\u001b[0m \u001b[0mtemp\u001b[0m \u001b[1;33m=\u001b[0m \u001b[0mtemp\u001b[0m\u001b[1;33m.\u001b[0m\u001b[0mreshape\u001b[0m\u001b[1;33m(\u001b[0m\u001b[1;36m402\u001b[0m\u001b[1;33m,\u001b[0m\u001b[1;36m566\u001b[0m\u001b[1;33m)\u001b[0m\u001b[1;33m\u001b[0m\u001b[1;33m\u001b[0m\u001b[0m\n\u001b[1;32m----> 8\u001b[1;33m \u001b[0mtemp\u001b[0m \u001b[1;33m=\u001b[0m \u001b[0mnp\u001b[0m\u001b[1;33m.\u001b[0m\u001b[0mrot90\u001b[0m\u001b[1;33m(\u001b[0m\u001b[0mtemp\u001b[0m\u001b[1;33m)\u001b[0m\u001b[1;33m\u001b[0m\u001b[1;33m\u001b[0m\u001b[0m\n\u001b[0m\u001b[0;32m      9\u001b[0m \u001b[1;33m\u001b[0m\u001b[0m\n\u001b[0;32m     10\u001b[0m \u001b[1;32mimport\u001b[0m \u001b[0mmatplotlib\u001b[0m\u001b[1;33m.\u001b[0m\u001b[0mpyplot\u001b[0m \u001b[1;32mas\u001b[0m \u001b[0mplt\u001b[0m\u001b[1;33m\u001b[0m\u001b[1;33m\u001b[0m\u001b[0m\n",
      "\u001b[1;31mNameError\u001b[0m: name 'np' is not defined"
     ]
    }
   ],
   "source": [
    "import scipy.io as sio\n",
    "filtered_image = sio.loadmat('filtered_image.mat')\n",
    "filter_kernel = sio.loadmat('filter_kernel.mat')\n",
    "filt_images = filtered_image['filtered_image']\n",
    "filt_kernels = filter_kernel['filter_kernel']\n",
    "temp = filt_kernels[0][5][0:]\n",
    "temp = temp.reshape(402,566)\n",
    "temp = np.rot90(temp)\n",
    "\n",
    "import matplotlib.pyplot as plt\n",
    "import matplotlib.image as mpimg\n",
    "imgplot = plt.imshow(temp, cmap = \"gray\")\n",
    "\n",
    "\n"
   ]
  },
  {
   "cell_type": "code",
   "execution_count": null,
   "metadata": {
    "kernel": "Python3"
   },
   "outputs": [],
   "source": []
  }
 ],
 "metadata": {
  "kernelspec": {
   "display_name": "SoS",
   "language": "sos",
   "name": "sos"
  },
  "language_info": {
   "codemirror_mode": "sos",
   "file_extension": ".sos",
   "mimetype": "text/x-sos",
   "name": "sos",
   "nbconvert_exporter": "sos_notebook.converter.SoS_Exporter",
   "pygments_lexer": "sos"
  },
  "sos": {
   "kernels": [
    [
     "Matlab",
     "matlab",
     "matlab",
     "",
     "octave"
    ],
    [
     "Python3",
     "python3",
     "Python3",
     "#FFD91A",
     ""
    ]
   ],
   "panel": {
    "displayed": true,
    "height": 0
   },
   "version": "0.21.0"
  }
 },
 "nbformat": 4,
 "nbformat_minor": 2
}
