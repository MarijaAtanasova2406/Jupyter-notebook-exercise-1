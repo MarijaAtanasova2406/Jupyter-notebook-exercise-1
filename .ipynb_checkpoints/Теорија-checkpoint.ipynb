{
 "cells": [
  {
   "cell_type": "markdown",
   "metadata": {
    "kernel": "SoS"
   },
   "source": [
    "# Филтрирање на слика во фреквенциски домен\n",
    "\n",
    "## Теорија\n",
    "\n",
    "За да филтрираме слика во фреквенциски домен \n",
    "потребно е да ја помножиме сликата во фреквенциски \n",
    "домен со филтерот (кернел) кој е исто така во фреквенциски домен.\n",
    "\n",
    "### Равенка за филтрирање на слика во фреквенциски домен: \n",
    "\n",
    "$$I_{f,filt} = HI_f$$\n",
    "\n",
    "За таа цел потребно е да се вметне Octave функција која ќе креира “Band pass gaussian filter” во фреквенциски домен. Bandpass гаусовиот филтер во фреквенциски домен е дефиниран со равенката:\n",
    "\n",
    "### Bandpass гаусов филтер:\n",
    "\n",
    "$$H(i,j) = e^\\frac{-d(i,j)^2} {f_h^2}\\left(1 - e^\\frac{-d(i,j)^2} {f_l^2}\\right)$$\n",
    "\n",
    "Каде што $d(i,j)$ е евклидовото растојанието на даден пиксел од центарот на сликата, додека $f_h$ и $f_l$ се праговите на високите и ниските фреквенции кои сакаме да ги филтрираме.\n",
    "Конверзија на 2D сликата од просторен во фреквенциски домен се прави со користење на Фуриева трансформација. Фуриевата трансформација е дефинирана како:\n",
    "\n",
    "### Фуриева трансформација во апсолутно-непрекинат домен:\n",
    "\n",
    "$$F(u,v) = \\int_{-\\infty}^{\\infty}\\int_{-\\infty}^{\\infty} f(x,y) e^{-i2\\pi(ux+vy)} dxdy$$\n",
    "\n",
    "А во дискретниот домен горната равенка може да биде преведена како\n",
    "\n",
    "### Фуриева трансформација во дискретен домен:\n",
    "\n",
    "$$F(u,v) = \\displaystyle\\sum_{m=-\\infty}^{\\infty} \\sum_{n=-\\infty}^{\\infty} f[m,n] \\cdot e^ {-i2\\pi(umx_0+vny_0)}$$\n",
    "        \n",
    "Конверзија на 2D сликата од фреквенциски во просторен домен се прави со\n",
    "користење на инверзна Фуриева трансформација. Инверзната Фуриева\n",
    "трансформација е дефинирана како:\n",
    "\n",
    "### Инверзни равенки:\n",
    "\n",
    "$$ f(x,y)= \\int_{-\\infty}^{\\infty}\\int_{-\\infty}^{\\infty} F(u,v) e^{i2\\pi(ux+vy)} dudv$$\n",
    "\n",
    "А во дискретниот домен горната равенка може да биде преведена како\n",
    "\n",
    "$$F(x,y) = \\displaystyle\\sum_{m=-\\infty}^{\\infty} \\sum_{n=-\\infty}^{\\infty} f[m,n] \\cdot e^ {i2\\pi(xmu_0+ynv_0)}$$"
   ]
  },
  {
   "cell_type": "code",
   "execution_count": 11,
   "metadata": {
    "kernel": "Matlab"
   },
   "outputs": [
    {
     "name": "stdout",
     "output_type": "stream",
     "text": [
      "Created file 'C:\\Users\\atana\\Desktop\\miikt\\create_filter.m'.\n"
     ]
    }
   ],
   "source": [
    "%%file create_filter.m\n",
    "\n",
    "function filter = create_filter(nx,ny,d0,d1)\n",
    "    filter = ones(nx,ny);\n",
    "    for i = 0:nx-1\n",
    "        for j = 0:ny-1\n",
    "            dist= sqrt((i-nx/2)^2 + (j-ny/2)^2);\n",
    "            filter(i+1,j+1) = exp(-(dist^2)/(d1^2)).*(1.0-exp(-(dist^2)/(d0^2)));\n",
    "        end\n",
    "    end\n",
    "    filter(nx/2+1,ny/2+1)=1;\n",
    "end"
   ]
  },
  {
   "cell_type": "code",
   "execution_count": 12,
   "metadata": {
    "kernel": "Matlab"
   },
   "outputs": [
    {
     "name": "stdout",
     "output_type": "stream",
     "text": [
      "\n"
     ]
    }
   ],
   "source": [
    "clear all\n",
    "%read image\n",
    "im = double(imread('Barbara.tif'));\n",
    "%size of the image\n",
    "[nx ny] = size(im);\n",
    "%Transform the image from spatial to frequency domain\n",
    "im_fft = fftshift(fft2(im));\n",
    "% Create Gaussian bandpass kernels, in frequency domain, for 20 different cut off frequencies and filter the image\n",
    "p=1;\n",
    "for i = 1:10:101\n",
    "q=1;\n",
    "    for j = 1:10:101\n",
    "        %Create the bandpass kernel\n",
    "        tmp1 = create_filter(nx,ny,i,j);\n",
    "        %Filter the image with the bandpass kernel and transform it back to spatial domain\n",
    "        tmp = mat2gray(abs(ifft2(ifftshift(tmp1.*im_fft))));\n",
    "        %Save the filtered image (in spatial domain) and kernel (in frequency domain) for visualization \n",
    "        filtered_image(p,q,:) = tmp(:);\n",
    "        filter_kernel(p,q,:) = tmp1(:);\n",
    "        q=q+1;\n",
    "    end\n",
    "    p=p+1;\n",
    "end\n",
    "%zachuvuvanje na matrici na slikata i kernelot vo iminjata.mat\n",
    "save filtered_image \n",
    "save filter_kernel"
   ]
  },
  {
   "cell_type": "code",
   "execution_count": 1,
   "metadata": {
    "kernel": "Python3",
    "scrolled": true
   },
   "outputs": [
    {
     "data": {
      "application/vnd.jupyter.widget-view+json": {
       "model_id": "590641d1df63438fb85db28100d49c20",
       "version_major": 2,
       "version_minor": 0
      },
      "text/plain": [
       "IntRangeSlider(value=(0, 10), continuous_update=False, description='Frequency cutoffs:', layout=Layout(width='…"
      ]
     },
     "metadata": {},
     "output_type": "display_data"
    }
   ],
   "source": [
    "import ipywidgets as widgets\n",
    "from IPython.display import display\n",
    "import matplotlib.pyplot as plt\n",
    "import numpy as np\n",
    "\n",
    "%matplotlib nbagg\n",
    "\n",
    "amp = widgets.IntRangeSlider(\n",
    "    value=[0, 10],\n",
    "    min=0,\n",
    "    max=10,\n",
    "    step=1,\n",
    "    description='Frequency cutoffs:',\n",
    "    disabled=False,\n",
    "    continuous_update=False,\n",
    "    orientation='horizontal',\n",
    "    readout=True,\n",
    "    readout_format='d',\n",
    "    layout={'width': '100%'}\n",
    ")\n",
    "\n",
    "display(amp)"
   ]
  },
  {
   "cell_type": "code",
   "execution_count": 1,
   "metadata": {
    "kernel": "Python3"
   },
   "outputs": [
    {
     "name": "stdout",
     "output_type": "stream",
     "text": [
      " * Serving Flask app \"__main__\" (lazy loading)\n",
      " * Environment: production\n",
      "   WARNING: This is a development server. Do not use it in a production deployment.\n",
      "   Use a production WSGI server instead.\n",
      " * Debug mode: off\n"
     ]
    },
    {
     "name": "stderr",
     "output_type": "stream",
     "text": [
      " * Running on http://127.0.0.1:8329/ (Press CTRL+C to quit)\n",
      "127.0.0.1 - - [22/Dec/2019 19:27:56] \"GET / HTTP/1.1\" 200 -\n",
      "127.0.0.1 - - [22/Dec/2019 19:27:57] \"GET /_dash-layout HTTP/1.1\" 200 -\n",
      "127.0.0.1 - - [22/Dec/2019 19:27:57] \"GET /_dash-dependencies HTTP/1.1\" 200 -\n",
      "127.0.0.1 - - [22/Dec/2019 19:27:57] \"POST /_dash-update-component HTTP/1.1\" 200 -\n",
      "127.0.0.1 - - [22/Dec/2019 19:28:11] \"POST /_dash-update-component HTTP/1.1\" 200 -\n"
     ]
    },
    {
     "name": "stdout",
     "output_type": "stream",
     "text": [
      "Figure({\n",
      "    'data': [{'coloraxis': 'coloraxis',\n",
      "              'type': 'heatmap',\n",
      "              'z': array([[1.03943206e-31, 1.31946051e-31, 1.67293851e-31, ..., 2.11858966e-31,\n",
      "                           1.67293851e-31, 1.31946051e-31],\n",
      "                          [1.45294736e-31, 1.84437901e-31, 2.33848049e-31, ..., 2.96142421e-31,\n",
      "                           2.33848049e-31, 1.84437901e-31],\n",
      "                          [2.02855574e-31, 2.57505930e-31, 3.26490700e-31, ..., 4.13463985e-31,\n",
      "                           3.26490700e-31, 2.57505930e-31],\n",
      "                          ...,\n",
      "                          [1.45294736e-31, 1.84437901e-31, 2.33848049e-31, ..., 2.96142421e-31,\n",
      "                           2.33848049e-31, 1.84437901e-31],\n",
      "                          [1.03943206e-31, 1.31946051e-31, 1.67293851e-31, ..., 2.11858966e-31,\n",
      "                           1.67293851e-31, 1.31946051e-31],\n",
      "                          [7.42720866e-32, 9.42813765e-32, 1.19538966e-31, ..., 1.51382741e-31,\n",
      "                           1.19538966e-31, 9.42813765e-32]])}],\n",
      "    'layout': {'coloraxis': {'colorscale': [[0.0, 'rgb(0, 0, 0)'],\n",
      "                                            [0.09090909090909091, 'rgb(16, 16,\n",
      "                                            16)'], [0.18181818181818182, 'rgb(38,\n",
      "                                            38, 38)'], [0.2727272727272727,\n",
      "                                            'rgb(59, 59, 59)'],\n",
      "                                            [0.36363636363636365, 'rgb(81, 80,\n",
      "                                            80)'], [0.45454545454545453, 'rgb(102,\n",
      "                                            101, 101)'], [0.5454545454545454,\n",
      "                                            'rgb(124, 123, 122)'],\n",
      "                                            [0.6363636363636364, 'rgb(146, 146,\n",
      "                                            145)'], [0.7272727272727273, 'rgb(171,\n",
      "                                            171, 170)'], [0.8181818181818182,\n",
      "                                            'rgb(197, 197, 195)'],\n",
      "                                            [0.9090909090909091, 'rgb(224, 224,\n",
      "                                            223)'], [1.0, 'rgb(254, 254, 253)']]},\n",
      "               'margin': {'t': 60},\n",
      "               'template': '...',\n",
      "               'xaxis': {'constrain': 'domain', 'scaleanchor': 'y', 'showticklabels': False},\n",
      "               'yaxis': {'autorange': 'reversed', 'constrain': 'domain', 'showticklabels': False}}\n",
      "})\n"
     ]
    },
    {
     "name": "stderr",
     "output_type": "stream",
     "text": [
      "127.0.0.1 - - [22/Dec/2019 19:28:11] \"POST /_dash-update-component HTTP/1.1\" 200 -\n",
      "127.0.0.1 - - [22/Dec/2019 19:28:11] \"POST /_dash-update-component HTTP/1.1\" 200 -\n"
     ]
    }
   ],
   "source": [
    "import dash\n",
    "import dash_html_components as html\n",
    "import dash_core_components as dcc\n",
    "import base64\n",
    "\n",
    "\n",
    "external_stylesheets = ['https://codepen.io/chriddyp/pen/bWLwgP.css']\n",
    "\n",
    "\n",
    "image_filename = 'C:\\\\Users\\\\atana\\\\Downloads\\\\Barbara.png' # replace with your own image\n",
    "encoded_image = base64.b64encode(open(image_filename, 'rb').read())\n",
    "\n",
    "app = dash.Dash(__name__, external_stylesheets=external_stylesheets)\n",
    "app.layout = html.Div([\n",
    "    html.Div(\"Frequency cutoffs:\"),\n",
    "    dcc.RangeSlider(\n",
    "        id='my-range-slider',\n",
    "        min=0,\n",
    "        max=10,\n",
    "        step=1,\n",
    "        value=[1, 4],\n",
    "        allowCross=False,\n",
    "        marks={\n",
    "            0: '0',\n",
    "            1: '1',\n",
    "            2: '2',\n",
    "            3: '3',\n",
    "            4: '4',\n",
    "            5: '5',\n",
    "            6: '6',\n",
    "            7: '7',\n",
    "            8: '8',\n",
    "            9: '9',\n",
    "            10: '10'\n",
    "        }\n",
    "    ),\n",
    "    html.Div(id='output-container-range-slider'),\n",
    "    html.Img(id='output-container-range-slider-2')\n",
    "    #html.Img(id='image')\n",
    "])\n",
    "\n",
    "\n",
    "@app.callback(\n",
    "    dash.dependencies.Output('output-container-range-slider', 'children'),\n",
    "    [dash.dependencies.Input('my-range-slider', 'value')])\n",
    "    \n",
    "def update_output(value):\n",
    "    return 'Ја избравте вредноста \"{}\"'.format(value)\n",
    "\n",
    "@app.callback(\n",
    "    dash.dependencies.Output('output-container-range-slider-2', 'children'),\n",
    "    [dash.dependencies.Input('my-range-slider', 'value')])\n",
    "   \n",
    "def update_output_2(value):\n",
    "    import scipy.io as sio\n",
    "    from matplotlib import pyplot as plt\n",
    "    import numpy as np\n",
    "    import plotly.express as px\n",
    " \n",
    "    filtered_image = sio.loadmat('filtered_image.mat')\n",
    "    filtered_kernel = sio.loadmat('filter_kernel.mat')\n",
    "    filt_images = filtered_image['filtered_image']\n",
    "    filt_kernels = filtered_kernel['filter_kernel']\n",
    "    temp = filt_kernels[value[0]][value[1]][0:]\n",
    "    temp = temp.reshape(402,566)\n",
    "    temp = np.rot90(temp)\n",
    "    #print(temp)\n",
    " \n",
    "    import matplotlib.pyplot as plt\n",
    "    import matplotlib.image as mpimg\n",
    "    import plotly.express as px\n",
    "    import numpy as np\n",
    "    img = temp\n",
    "    fig = px.imshow(img, color_continuous_scale='gray')\n",
    "    fig.update_xaxes(showticklabels=False).update_yaxes(showticklabels=False)\n",
    "    print(fig)\n",
    "\n",
    "if __name__ == '__main__':\n",
    "    app.run_server(port=8329,\n",
    "                   debug=False)"
   ]
  },
  {
   "cell_type": "code",
   "execution_count": 1,
   "metadata": {
    "kernel": "Python3"
   },
   "outputs": [
    {
     "data": {
      "application/vnd.jupyter.widget-view+json": {
       "model_id": "67c2e8706d5049b292aaef56f73d4ae5",
       "version_major": 2,
       "version_minor": 0
      },
      "text/plain": [
       "interactive(children=(IntRangeSlider(value=(0, 10), continuous_update=False, description='Frequency cutoffs:',…"
      ]
     },
     "metadata": {},
     "output_type": "display_data"
    }
   ],
   "source": [
    "%matplotlib nbagg\n",
    "\n",
    "import ipywidgets as widgets\n",
    "from IPython.display import display\n",
    "import matplotlib.pyplot as plt\n",
    "import numpy as np\n",
    "import matplotlib.image as mpimg\n",
    "import scipy.io as sio\n",
    "\n",
    "value = widgets.IntRangeSlider(\n",
    "    value=[0, 10],\n",
    "    min=0,\n",
    "    max=10,\n",
    "    step=1,\n",
    "    description='Frequency cutoffs:',\n",
    "    disabled=False,\n",
    "    continuous_update=False,\n",
    "    orientation='horizontal',\n",
    "    readout=True,\n",
    "    readout_format='d',\n",
    "    layout={'width': '100%'}\n",
    ")\n",
    "\n",
    "def display_image(value_0, value_1):\n",
    "    filtered_image = sio.loadmat('filtered_image.mat')\n",
    "    filt_images = filtered_image['filtered_image']\n",
    "    image = filt_images[value_0][value_1][0:]\n",
    "    image = image.reshape(402,566)\n",
    "    image = np.rot90(image, -1)\n",
    "    return image;\n",
    "    \n",
    "def display_kernel(value_0, value_1):\n",
    "    filtered_kernel = sio.loadmat('filter_kernel.mat')\n",
    "    filt_kernels = filtered_kernel['filter_kernel']\n",
    "    kernel = filt_kernels[value_0][value_1][0:]\n",
    "    kernel = kernel.reshape(402,566)\n",
    "    kernel = np.rot90(kernel, -1)\n",
    "    return kernel;\n",
    "\n",
    "def update_plot(value):\n",
    "    image = display_image(value[0], value[1])\n",
    "    kernel = display_kernel(value[0], value[1])\n",
    "    image = np.fliplr(image)\n",
    "    kernel = np.fliplr(kernel)\n",
    "    plot_image = np.concatenate((image, kernel), axis=1)\n",
    "    plt.imshow(plot_image, cmap=\"gray\", aspect='auto')\n",
    "    plt.title('Filtered Image')\n",
    "    plt.axis('off')\n",
    "    plt.show()\n",
    "\n",
    "widgets.interactive(update_plot, value=value)"
   ]
  }
 ],
 "metadata": {
  "kernelspec": {
   "display_name": "SoS",
   "language": "sos",
   "name": "sos"
  },
  "language_info": {
   "codemirror_mode": "sos",
   "file_extension": ".sos",
   "mimetype": "text/x-sos",
   "name": "sos",
   "nbconvert_exporter": "sos_notebook.converter.SoS_Exporter",
   "pygments_lexer": "sos"
  },
  "sos": {
   "kernels": [
    [
     "Matlab",
     "matlab",
     "matlab",
     "",
     "octave"
    ],
    [
     "Python3",
     "python3",
     "Python3",
     "#FFD91A",
     ""
    ]
   ],
   "panel": {
    "displayed": true,
    "height": 0
   },
   "version": "0.21.0"
  }
 },
 "nbformat": 4,
 "nbformat_minor": 2
}
